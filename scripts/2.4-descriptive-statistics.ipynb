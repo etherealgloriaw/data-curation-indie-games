{
 "cells": [
  {
   "cell_type": "code",
   "execution_count": null,
   "id": "6fbf0781",
   "metadata": {},
   "outputs": [],
   "source": [
    "import pandas as pd"
   ]
  },
  {
   "cell_type": "code",
   "execution_count": 3,
   "id": "d2118fce",
   "metadata": {},
   "outputs": [],
   "source": [
    "EPIC_CSV_PATH = \"../data/silver/epic_games_clean.csv\"\n",
    "STEAM_CSV_PATH = \"../data/silver/steam_clean.csv\"\n",
    "IGDB_CSV_PATH = \"../data/silver/igdb_clean.csv\"\n",
    "\n",
    "df_epic = pd.read_csv(EPIC_CSV_PATH)\n",
    "df_steam = pd.read_csv(STEAM_CSV_PATH)\n",
    "df_igdb = pd.read_csv(IGDB_CSV_PATH)"
   ]
  },
  {
   "cell_type": "code",
   "execution_count": 5,
   "id": "5302af4b",
   "metadata": {},
   "outputs": [
    {
     "data": {
      "text/html": [
       "<div>\n",
       "<style scoped>\n",
       "    .dataframe tbody tr th:only-of-type {\n",
       "        vertical-align: middle;\n",
       "    }\n",
       "\n",
       "    .dataframe tbody tr th {\n",
       "        vertical-align: top;\n",
       "    }\n",
       "\n",
       "    .dataframe thead th {\n",
       "        text-align: right;\n",
       "    }\n",
       "</style>\n",
       "<table border=\"1\" class=\"dataframe\">\n",
       "  <thead>\n",
       "    <tr style=\"text-align: right;\">\n",
       "      <th></th>\n",
       "      <th>original_price</th>\n",
       "      <th>discount_price</th>\n",
       "      <th>intermediate_price</th>\n",
       "    </tr>\n",
       "  </thead>\n",
       "  <tbody>\n",
       "    <tr>\n",
       "      <th>count</th>\n",
       "      <td>6805.000000</td>\n",
       "      <td>6805.000000</td>\n",
       "      <td>6805.000000</td>\n",
       "    </tr>\n",
       "    <tr>\n",
       "      <th>mean</th>\n",
       "      <td>19.225571</td>\n",
       "      <td>15.968131</td>\n",
       "      <td>15.968131</td>\n",
       "    </tr>\n",
       "    <tr>\n",
       "      <th>std</th>\n",
       "      <td>19.957692</td>\n",
       "      <td>19.043206</td>\n",
       "      <td>19.043206</td>\n",
       "    </tr>\n",
       "    <tr>\n",
       "      <th>min</th>\n",
       "      <td>0.000000</td>\n",
       "      <td>0.000000</td>\n",
       "      <td>0.000000</td>\n",
       "    </tr>\n",
       "    <tr>\n",
       "      <th>25%</th>\n",
       "      <td>4.990000</td>\n",
       "      <td>2.990000</td>\n",
       "      <td>2.990000</td>\n",
       "    </tr>\n",
       "    <tr>\n",
       "      <th>50%</th>\n",
       "      <td>14.990000</td>\n",
       "      <td>9.990000</td>\n",
       "      <td>9.990000</td>\n",
       "    </tr>\n",
       "    <tr>\n",
       "      <th>75%</th>\n",
       "      <td>24.990000</td>\n",
       "      <td>19.990000</td>\n",
       "      <td>19.990000</td>\n",
       "    </tr>\n",
       "    <tr>\n",
       "      <th>max</th>\n",
       "      <td>199.990000</td>\n",
       "      <td>199.990000</td>\n",
       "      <td>199.990000</td>\n",
       "    </tr>\n",
       "  </tbody>\n",
       "</table>\n",
       "</div>"
      ],
      "text/plain": [
       "       original_price  discount_price  intermediate_price\n",
       "count     6805.000000     6805.000000         6805.000000\n",
       "mean        19.225571       15.968131           15.968131\n",
       "std         19.957692       19.043206           19.043206\n",
       "min          0.000000        0.000000            0.000000\n",
       "25%          4.990000        2.990000            2.990000\n",
       "50%         14.990000        9.990000            9.990000\n",
       "75%         24.990000       19.990000           19.990000\n",
       "max        199.990000      199.990000          199.990000"
      ]
     },
     "execution_count": 5,
     "metadata": {},
     "output_type": "execute_result"
    }
   ],
   "source": [
    "df_epic.describe()"
   ]
  },
  {
   "cell_type": "code",
   "execution_count": 4,
   "id": "b26fb8a7",
   "metadata": {},
   "outputs": [
    {
     "data": {
      "text/plain": [
       "title                   0\n",
       "effective_date          0\n",
       "seller_name             0\n",
       "tags_joined           156\n",
       "original_price          2\n",
       "discount_price          2\n",
       "intermediate_price      2\n",
       "currency_code           0\n",
       "dtype: int64"
      ]
     },
     "execution_count": 4,
     "metadata": {},
     "output_type": "execute_result"
    }
   ],
   "source": [
    "df_epic.isnull().sum()"
   ]
  },
  {
   "cell_type": "code",
   "execution_count": 7,
   "id": "579fab06",
   "metadata": {},
   "outputs": [
    {
     "data": {
      "text/html": [
       "<div>\n",
       "<style scoped>\n",
       "    .dataframe tbody tr th:only-of-type {\n",
       "        vertical-align: middle;\n",
       "    }\n",
       "\n",
       "    .dataframe tbody tr th {\n",
       "        vertical-align: top;\n",
       "    }\n",
       "\n",
       "    .dataframe thead th {\n",
       "        text-align: right;\n",
       "    }\n",
       "</style>\n",
       "<table border=\"1\" class=\"dataframe\">\n",
       "  <thead>\n",
       "    <tr style=\"text-align: right;\">\n",
       "      <th></th>\n",
       "      <th>discount_percent</th>\n",
       "      <th>final_price</th>\n",
       "      <th>final_price_usd</th>\n",
       "    </tr>\n",
       "  </thead>\n",
       "  <tbody>\n",
       "    <tr>\n",
       "      <th>count</th>\n",
       "      <td>64549.000000</td>\n",
       "      <td>64544.000000</td>\n",
       "      <td>64534.000000</td>\n",
       "    </tr>\n",
       "    <tr>\n",
       "      <th>mean</th>\n",
       "      <td>4.319215</td>\n",
       "      <td>37.051003</td>\n",
       "      <td>11.076815</td>\n",
       "    </tr>\n",
       "    <tr>\n",
       "      <th>std</th>\n",
       "      <td>16.377614</td>\n",
       "      <td>3939.389800</td>\n",
       "      <td>115.769623</td>\n",
       "    </tr>\n",
       "    <tr>\n",
       "      <th>min</th>\n",
       "      <td>0.000000</td>\n",
       "      <td>0.640000</td>\n",
       "      <td>0.460000</td>\n",
       "    </tr>\n",
       "    <tr>\n",
       "      <th>25%</th>\n",
       "      <td>0.000000</td>\n",
       "      <td>3.390000</td>\n",
       "      <td>2.420000</td>\n",
       "    </tr>\n",
       "    <tr>\n",
       "      <th>50%</th>\n",
       "      <td>0.000000</td>\n",
       "      <td>6.490000</td>\n",
       "      <td>4.630000</td>\n",
       "    </tr>\n",
       "    <tr>\n",
       "      <th>75%</th>\n",
       "      <td>0.000000</td>\n",
       "      <td>12.990000</td>\n",
       "      <td>9.260000</td>\n",
       "    </tr>\n",
       "    <tr>\n",
       "      <th>max</th>\n",
       "      <td>100.000000</td>\n",
       "      <td>759000.000000</td>\n",
       "      <td>8109.740000</td>\n",
       "    </tr>\n",
       "  </tbody>\n",
       "</table>\n",
       "</div>"
      ],
      "text/plain": [
       "       discount_percent    final_price  final_price_usd\n",
       "count      64549.000000   64544.000000     64534.000000\n",
       "mean           4.319215      37.051003        11.076815\n",
       "std           16.377614    3939.389800       115.769623\n",
       "min            0.000000       0.640000         0.460000\n",
       "25%            0.000000       3.390000         2.420000\n",
       "50%            0.000000       6.490000         4.630000\n",
       "75%            0.000000      12.990000         9.260000\n",
       "max          100.000000  759000.000000      8109.740000"
      ]
     },
     "execution_count": 7,
     "metadata": {},
     "output_type": "execute_result"
    }
   ],
   "source": [
    "df_steam.describe()"
   ]
  },
  {
   "cell_type": "code",
   "execution_count": 5,
   "id": "8a73ebec",
   "metadata": {},
   "outputs": [
    {
     "data": {
      "text/plain": [
       "title                  16\n",
       "is_free                 0\n",
       "developers            145\n",
       "publishers            448\n",
       "categories            759\n",
       "genres                110\n",
       "effective_date          0\n",
       "currency_code       10045\n",
       "discount_percent    10045\n",
       "final_price         10050\n",
       "final_price_usd     10060\n",
       "dtype: int64"
      ]
     },
     "execution_count": 5,
     "metadata": {},
     "output_type": "execute_result"
    }
   ],
   "source": [
    "df_steam.isnull().sum()"
   ]
  },
  {
   "cell_type": "code",
   "execution_count": 8,
   "id": "e1d0cce7",
   "metadata": {},
   "outputs": [
    {
     "data": {
      "text/html": [
       "<div>\n",
       "<style scoped>\n",
       "    .dataframe tbody tr th:only-of-type {\n",
       "        vertical-align: middle;\n",
       "    }\n",
       "\n",
       "    .dataframe tbody tr th {\n",
       "        vertical-align: top;\n",
       "    }\n",
       "\n",
       "    .dataframe thead th {\n",
       "        text-align: right;\n",
       "    }\n",
       "</style>\n",
       "<table border=\"1\" class=\"dataframe\">\n",
       "  <thead>\n",
       "    <tr style=\"text-align: right;\">\n",
       "      <th></th>\n",
       "      <th>name</th>\n",
       "      <th>genres</th>\n",
       "      <th>release_date</th>\n",
       "    </tr>\n",
       "  </thead>\n",
       "  <tbody>\n",
       "    <tr>\n",
       "      <th>count</th>\n",
       "      <td>129378</td>\n",
       "      <td>121085</td>\n",
       "      <td>129379</td>\n",
       "    </tr>\n",
       "    <tr>\n",
       "      <th>unique</th>\n",
       "      <td>127274</td>\n",
       "      <td>2485</td>\n",
       "      <td>3998</td>\n",
       "    </tr>\n",
       "    <tr>\n",
       "      <th>top</th>\n",
       "      <td>Escape</td>\n",
       "      <td>Indie</td>\n",
       "      <td>2025-12-31</td>\n",
       "    </tr>\n",
       "    <tr>\n",
       "      <th>freq</th>\n",
       "      <td>8</td>\n",
       "      <td>16242</td>\n",
       "      <td>1967</td>\n",
       "    </tr>\n",
       "  </tbody>\n",
       "</table>\n",
       "</div>"
      ],
      "text/plain": [
       "          name  genres release_date\n",
       "count   129378  121085       129379\n",
       "unique  127274    2485         3998\n",
       "top     Escape   Indie   2025-12-31\n",
       "freq         8   16242         1967"
      ]
     },
     "execution_count": 8,
     "metadata": {},
     "output_type": "execute_result"
    }
   ],
   "source": [
    "df_igdb.describe()"
   ]
  },
  {
   "cell_type": "code",
   "execution_count": 6,
   "id": "eacdef11",
   "metadata": {},
   "outputs": [
    {
     "data": {
      "text/plain": [
       "name               1\n",
       "genres          8294\n",
       "release_date       0\n",
       "dtype: int64"
      ]
     },
     "execution_count": 6,
     "metadata": {},
     "output_type": "execute_result"
    }
   ],
   "source": [
    "df_igdb.isnull().sum()"
   ]
  }
 ],
 "metadata": {
  "kernelspec": {
   "display_name": "Python 3",
   "language": "python",
   "name": "python3"
  },
  "language_info": {
   "codemirror_mode": {
    "name": "ipython",
    "version": 3
   },
   "file_extension": ".py",
   "mimetype": "text/x-python",
   "name": "python",
   "nbconvert_exporter": "python",
   "pygments_lexer": "ipython3",
   "version": "3.12.1"
  }
 },
 "nbformat": 4,
 "nbformat_minor": 5
}
